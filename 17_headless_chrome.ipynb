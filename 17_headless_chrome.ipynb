{
 "cells": [
  {
   "cell_type": "markdown",
   "metadata": {},
   "source": [
    "# Headless Chrome - backend\n",
    "---\n"
   ]
  },
  {
   "cell_type": "code",
   "execution_count": 2,
   "metadata": {},
   "outputs": [],
   "source": [
    "from selenium import webdriver\n",
    "\n",
    "# browser 없이 selenium 실행(options)\n",
    "options = webdriver.ChromeOptions()\n",
    "options.headless = True\n",
    "options.add_argument('window-size=1920x1080') # 내부적으로 돌아가는 browser의 크기를 수행 환경에 맞게 설정\n",
    "\n",
    "# driver setting\n",
    "browser = webdriver.Chrome('C://chromedriver_win32/chromedriver.exe', options=options)\n",
    "browser. maximize_window() # 창 최대화"
   ]
  },
  {
   "cell_type": "code",
   "execution_count": 3,
   "metadata": {},
   "outputs": [
    {
     "name": "stdout",
     "output_type": "stream",
     "text": [
      "스크롤 완료\n"
     ]
    },
    {
     "data": {
      "text/plain": [
       "True"
      ]
     },
     "execution_count": 3,
     "metadata": {},
     "output_type": "execute_result"
    }
   ],
   "source": [
    "# 페이지 이동\n",
    "url = \"https://play.google.com/store/movies/top\"\n",
    "browser.get(url)\n",
    "\n",
    "import time\n",
    "interval = 2\n",
    "\n",
    "# 현재 문서 높이를 가져와서 저장\n",
    "prev_height = browser.execute_script('document.body.scrollHeight')\n",
    "\n",
    "while True:\n",
    "    #  스크롤 가장 아래로 내림\n",
    "    browser.execute_script('window.scrollTo(0, document.body.scrollHeight)')\n",
    "    \n",
    "    # 페이지 로딩 대기\n",
    "    time.sleep(interval)\n",
    "    \n",
    "    # 현재 문서 높이를 갖와서 저장\n",
    "    curr_height = browser.execute_script('return document.body.scrollHeight')\n",
    "    if curr_height == prev_height:\n",
    "        break\n",
    "    \n",
    "    prev_height = curr_height\n",
    "print('스크롤 완료')\n",
    "browser.get_screenshot_as_file('google_movie.png')"
   ]
  },
  {
   "cell_type": "code",
   "execution_count": null,
   "metadata": {},
   "outputs": [],
   "source": []
  }
 ],
 "metadata": {
  "kernelspec": {
   "display_name": "Python 3",
   "language": "python",
   "name": "python3"
  },
  "language_info": {
   "codemirror_mode": {
    "name": "ipython",
    "version": 3
   },
   "file_extension": ".py",
   "mimetype": "text/x-python",
   "name": "python",
   "nbconvert_exporter": "python",
   "pygments_lexer": "ipython3",
   "version": "3.6.9"
  }
 },
 "nbformat": 4,
 "nbformat_minor": 4
}
