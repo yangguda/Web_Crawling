{
 "cells": [
  {
   "cell_type": "code",
   "execution_count": 37,
   "metadata": {},
   "outputs": [],
   "source": [
    "from selenium import webdriver\n",
    "from selenium.webdriver.common.by import By # \n",
    "from selenium.webdriver.support.ui import WebDriverWait #\n",
    "from selenium.webdriver.support import expected_conditions as EC # "
   ]
  },
  {
   "cell_type": "code",
   "execution_count": 38,
   "metadata": {},
   "outputs": [],
   "source": [
    "browser = webdriver.Chrome('C://chromedriver_win32/chromedriver.exe')\n",
    "browser.maximize_window() # 창 최대화"
   ]
  },
  {
   "cell_type": "code",
   "execution_count": 39,
   "metadata": {},
   "outputs": [],
   "source": [
    "url = 'https://flight.naver.com/flights/'\n",
    "browser.get(url)"
   ]
  },
  {
   "cell_type": "code",
   "execution_count": 40,
   "metadata": {},
   "outputs": [],
   "source": [
    "browser.find_element_by_link_text('가는날 선택').click()"
   ]
  },
  {
   "cell_type": "code",
   "execution_count": 41,
   "metadata": {},
   "outputs": [],
   "source": [
    "# # 이번달 29, 31 선택\n",
    "# browser.find_elements_by_link_text('29')[0].click()\n",
    "# browser.find_elements_by_link_text('31')[0].click()"
   ]
  },
  {
   "cell_type": "code",
   "execution_count": 42,
   "metadata": {},
   "outputs": [],
   "source": [
    "# 이번달 27, 다음달 29 선택\n",
    "browser.find_elements_by_link_text('27')[0].click()\n",
    "browser.find_elements_by_link_text('29')[1].click()"
   ]
  },
  {
   "cell_type": "code",
   "execution_count": 43,
   "metadata": {},
   "outputs": [],
   "source": [
    "# 제주도 선택\n",
    "browser.find_element_by_xpath('//*[@id=\"recommendationList\"]/ul/li[1]/div/dl/dt').click()"
   ]
  },
  {
   "cell_type": "code",
   "execution_count": 44,
   "metadata": {},
   "outputs": [
    {
     "name": "stdout",
     "output_type": "stream",
     "text": [
      "에어서울\n",
      "출발지\n",
      "GMP\n",
      "06:00\n",
      "도착지\n",
      "CJU\n",
      "07:00\n",
      "총 소요시간\n",
      "01시간 00분\n",
      "할인석\n",
      "편도 22,900원\n",
      "성인\n"
     ]
    }
   ],
   "source": [
    "# 항공권 검색 클릭\n",
    "browser.find_element_by_link_text('항공권 검색').click()\n",
    "\n",
    "first_xpath = '//*[@id=\"content\"]/div[2]/div/div[4]/ul/li[1]' # 첫번째 결과물 xpath\n",
    "# Page 로드 대기\n",
    "try:\n",
    "    elem = WebDriverWait(browser, 10).until(EC.presence_of_element_located((By.XPATH, first_xpath))) # 10초 동안 기다리는데 element가 나올면 동작\n",
    "    # 성공했을 때 동작\n",
    "    print(elem.text) # 첫번째 결과 출력\n",
    "finally:\n",
    "    browser.quit()"
   ]
  },
  {
   "cell_type": "code",
   "execution_count": null,
   "metadata": {},
   "outputs": [],
   "source": []
  },
  {
   "cell_type": "code",
   "execution_count": null,
   "metadata": {},
   "outputs": [],
   "source": []
  }
 ],
 "metadata": {
  "kernelspec": {
   "display_name": "Python 3",
   "language": "python",
   "name": "python3"
  },
  "language_info": {
   "codemirror_mode": {
    "name": "ipython",
    "version": 3
   },
   "file_extension": ".py",
   "mimetype": "text/x-python",
   "name": "python",
   "nbconvert_exporter": "python",
   "pygments_lexer": "ipython3",
   "version": "3.6.9"
  }
 },
 "nbformat": 4,
 "nbformat_minor": 4
}
