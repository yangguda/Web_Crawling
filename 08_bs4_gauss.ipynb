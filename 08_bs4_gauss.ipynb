{
 "cells": [
  {
   "cell_type": "markdown",
   "metadata": {},
   "source": [
    "# BeutifulSoup - Gauss\n",
    "---"
   ]
  },
  {
   "cell_type": "code",
   "execution_count": 1,
   "metadata": {},
   "outputs": [],
   "source": [
    "import requests\n",
    "from bs4 import BeautifulSoup"
   ]
  },
  {
   "cell_type": "code",
   "execution_count": 2,
   "metadata": {},
   "outputs": [],
   "source": [
    "url = 'https://comic.naver.com/webtoon/list.nhn?titleId=675554'\n",
    "res = requests.get(url)\n",
    "res.raise_for_status()"
   ]
  },
  {
   "cell_type": "code",
   "execution_count": 3,
   "metadata": {},
   "outputs": [],
   "source": [
    "soup = BeautifulSoup(res.text, 'lxml')"
   ]
  },
  {
   "cell_type": "code",
   "execution_count": 4,
   "metadata": {},
   "outputs": [],
   "source": [
    "cartoons = soup.find_all('td', attrs={'class':'title'})"
   ]
  },
  {
   "cell_type": "code",
   "execution_count": 5,
   "metadata": {},
   "outputs": [
    {
     "name": "stdout",
     "output_type": "stream",
     "text": [
      "후기 + 10년 후 가우스\n"
     ]
    }
   ],
   "source": [
    "# title info\n",
    "print(cartoons[0].a.get_text())"
   ]
  },
  {
   "cell_type": "code",
   "execution_count": 8,
   "metadata": {},
   "outputs": [
    {
     "data": {
      "text/plain": [
       "<td class=\"title\">\n",
       "<a href=\"/webtoon/detail.nhn?titleId=675554&amp;no=910&amp;weekday=mon\" onclick=\"nclk_v2(event,'lst.title','675554','910')\">시즌4 430화 내일 봐요</a>\n",
       "</td>"
      ]
     },
     "execution_count": 8,
     "metadata": {},
     "output_type": "execute_result"
    }
   ],
   "source": [
    "cartoons[1]"
   ]
  },
  {
   "cell_type": "code",
   "execution_count": 15,
   "metadata": {},
   "outputs": [
    {
     "name": "stdout",
     "output_type": "stream",
     "text": [
      "https://comic.naver.com/webtoon/detail.nhn?titleId=675554&no=911&weekday=mon\n"
     ]
    }
   ],
   "source": [
    "# like info\n",
    "print('https://comic.naver.com' + cartoons[0].a['href'])"
   ]
  },
  {
   "cell_type": "code",
   "execution_count": 18,
   "metadata": {},
   "outputs": [
    {
     "name": "stdout",
     "output_type": "stream",
     "text": [
      "후기 + 10년 후 가우스 \n",
      " https://comic.naver.com/webtoon/detail.nhn?titleId=675554&no=911&weekday=mon\n",
      "시즌4 430화 내일 봐요 \n",
      " https://comic.naver.com/webtoon/detail.nhn?titleId=675554&no=910&weekday=mon\n",
      "시즌4 429화 잠행 \n",
      " https://comic.naver.com/webtoon/detail.nhn?titleId=675554&no=909&weekday=mon\n",
      "시즌4 428화 추억 \n",
      " https://comic.naver.com/webtoon/detail.nhn?titleId=675554&no=908&weekday=mon\n",
      "시즌4 427화 섬세한사람 \n",
      " https://comic.naver.com/webtoon/detail.nhn?titleId=675554&no=907&weekday=mon\n",
      "시즌4 426화 적응 \n",
      " https://comic.naver.com/webtoon/detail.nhn?titleId=675554&no=906&weekday=mon\n",
      "시즌4 425화 대견 \n",
      " https://comic.naver.com/webtoon/detail.nhn?titleId=675554&no=905&weekday=mon\n",
      "시즌4 424화 초빙강사 \n",
      " https://comic.naver.com/webtoon/detail.nhn?titleId=675554&no=904&weekday=mon\n",
      "시즌4 423화 추억의 물건 \n",
      " https://comic.naver.com/webtoon/detail.nhn?titleId=675554&no=903&weekday=mon\n",
      "시즌4 422화 아니요 \n",
      " https://comic.naver.com/webtoon/detail.nhn?titleId=675554&no=902&weekday=mon\n"
     ]
    }
   ],
   "source": [
    "for c in cartoons:\n",
    "    title = c.a.get_text()\n",
    "    link = 'https://comic.naver.com' + c.a['href']\n",
    "    print(title, '\\n',link)"
   ]
  },
  {
   "cell_type": "code",
   "execution_count": 20,
   "metadata": {},
   "outputs": [],
   "source": [
    "# ratings\n",
    "cartoons = soup.find_all('div', attrs={'class':'rating_type'})"
   ]
  },
  {
   "cell_type": "code",
   "execution_count": 31,
   "metadata": {},
   "outputs": [
    {
     "name": "stdout",
     "output_type": "stream",
     "text": [
      "9.98\n",
      "9.98\n",
      "9.97\n",
      "9.97\n",
      "9.97\n",
      "9.98\n",
      "9.97\n",
      "9.97\n",
      "9.96\n",
      "9.97\n",
      "Total  99.72\n",
      "Average  9.972\n"
     ]
    }
   ],
   "source": [
    "# avg total_rates\n",
    "total_rates = 0\n",
    "for c in cartoons:\n",
    "    rate = c.find('strong').get_text()\n",
    "    print(rate)\n",
    "    total_rates += float(rate)\n",
    "print('Total ', total_rates)\n",
    "print('Average ', total_rates / len(cartoons))"
   ]
  },
  {
   "cell_type": "code",
   "execution_count": null,
   "metadata": {},
   "outputs": [],
   "source": []
  }
 ],
 "metadata": {
  "kernelspec": {
   "display_name": "Python 3",
   "language": "python",
   "name": "python3"
  },
  "language_info": {
   "codemirror_mode": {
    "name": "ipython",
    "version": 3
   },
   "file_extension": ".py",
   "mimetype": "text/x-python",
   "name": "python",
   "nbconvert_exporter": "python",
   "pygments_lexer": "ipython3",
   "version": "3.6.8"
  }
 },
 "nbformat": 4,
 "nbformat_minor": 4
}
