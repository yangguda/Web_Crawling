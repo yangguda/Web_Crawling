{
 "cells": [
  {
   "cell_type": "markdown",
   "metadata": {},
   "source": [
    "# "
   ]
  },
  {
   "cell_type": "code",
   "execution_count": 1,
   "metadata": {},
   "outputs": [
    {
     "name": "stdout",
     "output_type": "stream",
     "text": [
      "Mozilla/5.0 (Windows NT 10.0; Win64; x64) AppleWebKit/537.36 (KHTML, like Gecko) HeadlessChrome/84.0.4147.135 Safari/537.36\n"
     ]
    }
   ],
   "source": [
    "from selenium import webdriver\n",
    "\n",
    "options = webdriver.ChromeOptions()\n",
    "options.headless = True\n",
    "options.add_argument(\"window-size=1920x1080\")\n",
    "\n",
    "browser = webdriver.Chrome('C://chromedriver_win32/chromedriver.exe', options=options)\n",
    "browser.maximize_window()\n",
    "\n",
    "url = \"https://www.whatismybrowser.com/detect/what-is-my-user-agent\"\n",
    "browser.get(url)\n",
    "\n",
    "# Mozilla/5.0 (Windows NT 10.0; Win64; x64) \n",
    "# AppleWebKit/537.36 (KHTML, like Gecko) \n",
    "# Chrome/84.0.4147.89 Safari/537.36\n",
    "detected_value = browser.find_element_by_id(\"detected_value\")\n",
    "print(detected_value.text)\n",
    "browser.quit()"
   ]
  },
  {
   "cell_type": "code",
   "execution_count": 2,
   "metadata": {},
   "outputs": [],
   "source": [
    "# headless browser 사용시 아래의 option 설정으로 일반 browser 설정 가능\n",
    "options.add_argument(\"user-agent=Mozilla/5.0 (Windows NT 10.0; Win64; x64) AppleWebKit/537.36 (KHTML, like Gecko) Chrome/84.0.4147.89 Safari/537.36\")"
   ]
  },
  {
   "cell_type": "code",
   "execution_count": 3,
   "metadata": {},
   "outputs": [
    {
     "name": "stdout",
     "output_type": "stream",
     "text": [
      "Mozilla/5.0 (Windows NT 10.0; Win64; x64) AppleWebKit/537.36 (KHTML, like Gecko) Chrome/84.0.4147.89 Safari/537.36\n"
     ]
    }
   ],
   "source": [
    "browser = webdriver.Chrome('C://chromedriver_win32/chromedriver.exe', options=options)\n",
    "browser.maximize_window()\n",
    "\n",
    "url = \"https://www.whatismybrowser.com/detect/what-is-my-user-agent\"\n",
    "browser.get(url)\n",
    "\n",
    "# Mozilla/5.0 (Windows NT 10.0; Win64; x64) \n",
    "# AppleWebKit/537.36 (KHTML, like Gecko) \n",
    "# Chrome/84.0.4147.89 Safari/537.36\n",
    "detected_value = browser.find_element_by_id(\"detected_value\")\n",
    "print(detected_value.text)\n",
    "browser.quit()"
   ]
  },
  {
   "cell_type": "code",
   "execution_count": null,
   "metadata": {},
   "outputs": [],
   "source": []
  }
 ],
 "metadata": {
  "kernelspec": {
   "display_name": "Python 3",
   "language": "python",
   "name": "python3"
  },
  "language_info": {
   "codemirror_mode": {
    "name": "ipython",
    "version": 3
   },
   "file_extension": ".py",
   "mimetype": "text/x-python",
   "name": "python",
   "nbconvert_exporter": "python",
   "pygments_lexer": "ipython3",
   "version": "3.6.9"
  }
 },
 "nbformat": 4,
 "nbformat_minor": 4
}
