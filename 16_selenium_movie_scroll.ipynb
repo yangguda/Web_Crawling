{
 "cells": [
  {
   "cell_type": "markdown",
   "metadata": {},
   "source": [
    "# Dynamic WebPage - Scroll\n",
    "---"
   ]
  },
  {
   "cell_type": "code",
   "execution_count": null,
   "metadata": {},
   "outputs": [],
   "source": [
    "import time\n",
    "from selenium import webdriver\n",
    "\n",
    "\n",
    "browser = webdriver.Chrome('C://chromedriver_win32/chromedriver.exe')\n",
    "browser.maximize_window() # 창 최대화\n",
    "\n",
    "\n",
    "interval = 2\n",
    "\n",
    "# 현재 문서 높이를 가져와서 저장\n",
    "prev_height = browser.execute_script('document.body.scrollHeight')\n",
    "\n",
    "while True:\n",
    "    #  스크롤 가장 아래로 내림\n",
    "    browser.execute_script('window.scrollTo(0, document.body.scrollHeight)')\n",
    "    \n",
    "    # 페이지 로딩 대기\n",
    "    time.sleep(interval)\n",
    "    \n",
    "    # 현재 문서 높이를 갖와서 저장\n",
    "    curr_height = browser.execute_script('return document.body.scrollHeight')\n",
    "    if curr_height == prev_height:\n",
    "        break\n",
    "    \n",
    "    prev_height = curr_height\n",
    "print('스크롤 완료')"
   ]
  },
  {
   "cell_type": "code",
   "execution_count": null,
   "metadata": {},
   "outputs": [],
   "source": [
    "import requests\n",
    "from bs4 import BeautifulSoup\n",
    "from selenium import webdriver\n",
    "# 페이지 이동\n",
    "url = \"https://play.google.com/store/movies/top\"\n",
    "browser.get(url)\n",
    "soup = BeautifulSoup(browser.page_source, 'lxml')\n",
    "\n",
    "#movies = soup.find_all(\"div\", attrs={\"class\":[\"ImZGtf mpg5gc\", \"Vpfmgd\"]})\n",
    "movies = soup.find_all(\"div\", attrs={\"class\":\"Vpfmgd\"})\n",
    "print(len(movies))\n",
    "\n",
    "for movie in movies:\n",
    "    title = movie.find('div', attrs={'class':'WsMG1c nnK0zc'}).get_text()\n",
    "    # 할인 전 가격\n",
    "    original_price = movie.find(\"span\", attrs={\"class\":\"SUZt4c djCuy\"})\n",
    "#     if original_price:\n",
    "#         original_price = original_price.get_text()\n",
    "#     else:\n",
    "#         #print(title, \"  <할인되지 않은 영화 제외>\")\n",
    "#         continue\n",
    "    # 할인된 가격\n",
    "    price = movie.find(\"span\", attrs={\"class\":\"VfPpfd ZdBevf i5DZme\"}).get_text()\n",
    "\n",
    "    # 링크\n",
    "    link = movie.find(\"a\", attrs={\"class\":\"JC71ub\"})[\"href\"]\n",
    "    # 올바른 링크 : https://play.google.com + link\n",
    "    print(f\"제목 : {title}\")\n",
    "    print(f\"할인 전 금액 : {original_price}\")\n",
    "    print(f\"할인 후 금액 : {price}\")\n",
    "    print(\"링크 : \", \"https://play.google.com\" + link)\n",
    "    print(\"-\" * 100)\n",
    "\n",
    "browser.quit()"
   ]
  }
 ],
 "metadata": {
  "kernelspec": {
   "display_name": "Python 3",
   "language": "python",
   "name": "python3"
  },
  "language_info": {
   "codemirror_mode": {
    "name": "ipython",
    "version": 3
   },
   "file_extension": ".py",
   "mimetype": "text/x-python",
   "name": "python",
   "nbconvert_exporter": "python",
   "pygments_lexer": "ipython3",
   "version": "3.6.9"
  }
 },
 "nbformat": 4,
 "nbformat_minor": 4
}
