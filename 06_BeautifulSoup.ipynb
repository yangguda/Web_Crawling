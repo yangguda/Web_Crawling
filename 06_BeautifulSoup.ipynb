{
 "cells": [
  {
   "cell_type": "markdown",
   "metadata": {},
   "source": [
    "# BeautifulSoup\n",
    "---\n",
    "pip install beautifulsoup4  \n",
    "pip install lxml  "
   ]
  },
  {
   "cell_type": "code",
   "execution_count": 11,
   "metadata": {},
   "outputs": [],
   "source": [
    "import requests\n",
    "from bs4 import BeautifulSoup"
   ]
  },
  {
   "cell_type": "code",
   "execution_count": 12,
   "metadata": {},
   "outputs": [],
   "source": [
    "url = 'https://comic.naver.com/webtoon/weekday.nhn'\n",
    "res = requests.get(url)\n",
    "res.raise_for_status()"
   ]
  },
  {
   "cell_type": "code",
   "execution_count": 13,
   "metadata": {},
   "outputs": [
    {
     "data": {
      "text/plain": [
       "352589"
      ]
     },
     "execution_count": 13,
     "metadata": {},
     "output_type": "execute_result"
    }
   ],
   "source": [
    "len(res.text)"
   ]
  },
  {
   "cell_type": "code",
   "execution_count": 14,
   "metadata": {},
   "outputs": [
    {
     "name": "stdout",
     "output_type": "stream",
     "text": [
      "<title>네이버 만화 &gt; 요일별  웹툰 &gt; 전체웹툰</title>\n"
     ]
    }
   ],
   "source": [
    "soup = BeautifulSoup(res.text, 'lxml') # lxml 구문을 분석하는 parser\n",
    "print(soup.title)"
   ]
  },
  {
   "cell_type": "code",
   "execution_count": 15,
   "metadata": {},
   "outputs": [
    {
     "name": "stdout",
     "output_type": "stream",
     "text": [
      "네이버 만화 > 요일별  웹툰 > 전체웹툰\n"
     ]
    }
   ],
   "source": [
    "print(soup.title.get_text())"
   ]
  },
  {
   "cell_type": "code",
   "execution_count": 16,
   "metadata": {},
   "outputs": [
    {
     "name": "stdout",
     "output_type": "stream",
     "text": [
      "<a href=\"#menu\" onclick=\"document.getElementById('menu').tabIndex=-1;document.getElementById('menu').focus();return false;\"><span>메인 메뉴로 바로가기</span></a>\n"
     ]
    }
   ],
   "source": [
    "# soup 객체에서 처음 발견되는 a element를 반환\n",
    "print(soup.a)"
   ]
  },
  {
   "cell_type": "code",
   "execution_count": 17,
   "metadata": {},
   "outputs": [
    {
     "name": "stdout",
     "output_type": "stream",
     "text": [
      "{'href': '#menu', 'onclick': \"document.getElementById('menu').tabIndex=-1;document.getElementById('menu').focus();return false;\"}\n"
     ]
    }
   ],
   "source": [
    "# a element의 속성 정보를 반환\n",
    "print(soup.a.attrs)"
   ]
  },
  {
   "cell_type": "code",
   "execution_count": 18,
   "metadata": {},
   "outputs": [
    {
     "name": "stdout",
     "output_type": "stream",
     "text": [
      "#menu\n"
     ]
    }
   ],
   "source": [
    "# a element의 href 속성 '값' 정보를 출력\n",
    "print(soup.a['href'])"
   ]
  },
  {
   "cell_type": "markdown",
   "metadata": {},
   "source": [
    "#### 대상 Web을 잘 알지 못하는 경우"
   ]
  },
  {
   "cell_type": "code",
   "execution_count": 19,
   "metadata": {},
   "outputs": [
    {
     "data": {
      "text/plain": [
       "<a class=\"Nbtn_upload\" href=\"/mypage/myActivity.nhn\" onclick=\"nclk_v2(event,'olk.upload');\">웹툰 올리기</a>"
      ]
     },
     "execution_count": 19,
     "metadata": {},
     "output_type": "execute_result"
    }
   ],
   "source": [
    "# class='Nbtn_upload' 인 a element를 검색\n",
    "soup.find('a', attrs={'class':'Nbtn_upload'})"
   ]
  },
  {
   "cell_type": "code",
   "execution_count": 20,
   "metadata": {},
   "outputs": [
    {
     "data": {
      "text/plain": [
       "<a class=\"Nbtn_upload\" href=\"/mypage/myActivity.nhn\" onclick=\"nclk_v2(event,'olk.upload');\">웹툰 올리기</a>"
      ]
     },
     "execution_count": 20,
     "metadata": {},
     "output_type": "execute_result"
    }
   ],
   "source": [
    "# class='Nbtn_upload' 인 어떤 element를 검색\n",
    "soup.find(attrs = {'class': 'Nbtn_upload'})"
   ]
  },
  {
   "cell_type": "code",
   "execution_count": 25,
   "metadata": {},
   "outputs": [
    {
     "name": "stdout",
     "output_type": "stream",
     "text": [
      "<a href=\"/webtoon/detail.nhn?titleId=703846&amp;no=125\" onclick=\"nclk_v2(event,'rnk*p.cont','703846','1')\" title=\"여신강림-120화\">여신강림-120화</a>\n"
     ]
    }
   ],
   "source": [
    "# 인기 급상승\n",
    "rank1 = soup.find('li', attrs={'class':'rank01'})\n",
    "print(rank1.a)"
   ]
  },
  {
   "cell_type": "code",
   "execution_count": 26,
   "metadata": {},
   "outputs": [
    {
     "name": "stdout",
     "output_type": "stream",
     "text": [
      "여신강림-120화\n"
     ]
    }
   ],
   "source": [
    "# 형제 객체\n",
    "print(rank1.a.get_text())"
   ]
  },
  {
   "cell_type": "code",
   "execution_count": 27,
   "metadata": {},
   "outputs": [
    {
     "data": {
      "text/plain": [
       "'\\n'"
      ]
     },
     "execution_count": 27,
     "metadata": {},
     "output_type": "execute_result"
    }
   ],
   "source": [
    "rank1.next_sibling # 내부적으로 줄바꿈이 있어서 다음 항목으로 안넘어감"
   ]
  },
  {
   "cell_type": "code",
   "execution_count": 28,
   "metadata": {},
   "outputs": [
    {
     "data": {
      "text/plain": [
       "<li class=\"rank02\">\n",
       "<a href=\"/webtoon/detail.nhn?titleId=703852&amp;no=113\" onclick=\"nclk_v2(event,'rnk*p.cont','703852','2')\" title=\"바른연애 길잡이-113\">바른연애 길잡이-113</a>\n",
       "<span class=\"rankBox\">\n",
       "<img alt=\"변동없음\" height=\"10\" src=\"https://ssl.pstatic.net/static/comic/images/migration/common/arrow_no.gif\" title=\"변동없음\" width=\"7\"/> 0\n",
       "\t\t\t\t\t\t\n",
       "\t\t\t\t\t\n",
       "\t\t\t\t</span>\n",
       "</li>"
      ]
     },
     "execution_count": 28,
     "metadata": {},
     "output_type": "execute_result"
    }
   ],
   "source": [
    "rank1.next_sibling.next_sibling # next"
   ]
  },
  {
   "cell_type": "code",
   "execution_count": 32,
   "metadata": {},
   "outputs": [
    {
     "data": {
      "text/plain": [
       "<li class=\"rank02\">\n",
       "<a href=\"/webtoon/detail.nhn?titleId=703852&amp;no=113\" onclick=\"nclk_v2(event,'rnk*p.cont','703852','2')\" title=\"바른연애 길잡이-113\">바른연애 길잡이-113</a>\n",
       "<span class=\"rankBox\">\n",
       "<img alt=\"변동없음\" height=\"10\" src=\"https://ssl.pstatic.net/static/comic/images/migration/common/arrow_no.gif\" title=\"변동없음\" width=\"7\"/> 0\n",
       "\t\t\t\t\t\t\n",
       "\t\t\t\t\t\n",
       "\t\t\t\t</span>\n",
       "</li>"
      ]
     },
     "execution_count": 32,
     "metadata": {},
     "output_type": "execute_result"
    }
   ],
   "source": [
    "rank1.find_next_sibling('li') # 다음 li tag 정보로 검색"
   ]
  },
  {
   "cell_type": "code",
   "execution_count": 29,
   "metadata": {},
   "outputs": [
    {
     "data": {
      "text/plain": [
       "<li class=\"rank03\">\n",
       "<a href=\"/webtoon/detail.nhn?titleId=743139&amp;no=14\" onclick=\"nclk_v2(event,'rnk*p.cont','743139','3')\" title=\"한림체육관-14화\">한림체육관-14화</a>\n",
       "<span class=\"rankBox\">\n",
       "<img alt=\"변동없음\" height=\"10\" src=\"https://ssl.pstatic.net/static/comic/images/migration/common/arrow_no.gif\" title=\"변동없음\" width=\"7\"/> 0\n",
       "\t\t\t\t\t\t\n",
       "\t\t\t\t\t\n",
       "\t\t\t\t</span>\n",
       "</li>"
      ]
     },
     "execution_count": 29,
     "metadata": {},
     "output_type": "execute_result"
    }
   ],
   "source": [
    "rank2 = rank1.next_sibling.next_sibling\n",
    "rank2.next_sibling.next_sibling"
   ]
  },
  {
   "cell_type": "code",
   "execution_count": 30,
   "metadata": {},
   "outputs": [
    {
     "data": {
      "text/plain": [
       "<li class=\"rank01\">\n",
       "<a href=\"/webtoon/detail.nhn?titleId=703846&amp;no=125\" onclick=\"nclk_v2(event,'rnk*p.cont','703846','1')\" title=\"여신강림-120화\">여신강림-120화</a>\n",
       "<span class=\"rankBox\">\n",
       "<img alt=\"변동없음\" height=\"10\" src=\"https://ssl.pstatic.net/static/comic/images/migration/common/arrow_no.gif\" title=\"변동없음\" width=\"7\"/> 0\n",
       "\t\t\t\t\t\t\n",
       "\t\t\t\t\t\n",
       "\t\t\t\t</span>\n",
       "</li>"
      ]
     },
     "execution_count": 30,
     "metadata": {},
     "output_type": "execute_result"
    }
   ],
   "source": [
    "rank2.previous_sibling.previous_sibling # previous"
   ]
  },
  {
   "cell_type": "code",
   "execution_count": 34,
   "metadata": {},
   "outputs": [
    {
     "data": {
      "text/plain": [
       "<li class=\"rank01\">\n",
       "<a href=\"/webtoon/detail.nhn?titleId=703846&amp;no=125\" onclick=\"nclk_v2(event,'rnk*p.cont','703846','1')\" title=\"여신강림-120화\">여신강림-120화</a>\n",
       "<span class=\"rankBox\">\n",
       "<img alt=\"변동없음\" height=\"10\" src=\"https://ssl.pstatic.net/static/comic/images/migration/common/arrow_no.gif\" title=\"변동없음\" width=\"7\"/> 0\n",
       "\t\t\t\t\t\t\n",
       "\t\t\t\t\t\n",
       "\t\t\t\t</span>\n",
       "</li>"
      ]
     },
     "execution_count": 34,
     "metadata": {},
     "output_type": "execute_result"
    }
   ],
   "source": [
    "rank2.find_previous_sibling('li')"
   ]
  },
  {
   "cell_type": "code",
   "execution_count": 36,
   "metadata": {},
   "outputs": [
    {
     "data": {
      "text/plain": [
       "[<li class=\"rank02\">\n",
       " <a href=\"/webtoon/detail.nhn?titleId=703852&amp;no=113\" onclick=\"nclk_v2(event,'rnk*p.cont','703852','2')\" title=\"바른연애 길잡이-113\">바른연애 길잡이-113</a>\n",
       " <span class=\"rankBox\">\n",
       " <img alt=\"변동없음\" height=\"10\" src=\"https://ssl.pstatic.net/static/comic/images/migration/common/arrow_no.gif\" title=\"변동없음\" width=\"7\"/> 0\n",
       " \t\t\t\t\t\t\n",
       " \t\t\t\t\t\n",
       " \t\t\t\t</span>\n",
       " </li>, <li class=\"rank03\">\n",
       " <a href=\"/webtoon/detail.nhn?titleId=743139&amp;no=14\" onclick=\"nclk_v2(event,'rnk*p.cont','743139','3')\" title=\"한림체육관-14화\">한림체육관-14화</a>\n",
       " <span class=\"rankBox\">\n",
       " <img alt=\"변동없음\" height=\"10\" src=\"https://ssl.pstatic.net/static/comic/images/migration/common/arrow_no.gif\" title=\"변동없음\" width=\"7\"/> 0\n",
       " \t\t\t\t\t\t\n",
       " \t\t\t\t\t\n",
       " \t\t\t\t</span>\n",
       " </li>, <li class=\"rank04\">\n",
       " <a href=\"/webtoon/detail.nhn?titleId=702608&amp;no=145\" onclick=\"nclk_v2(event,'rnk*p.cont','702608','4')\" title=\"랜덤채팅의 그녀!-145. 해일(1)\">랜덤채팅의 그녀!-145. 해일(1)</a>\n",
       " <span class=\"rankBox\">\n",
       " <img alt=\"변동없음\" height=\"10\" src=\"https://ssl.pstatic.net/static/comic/images/migration/common/arrow_no.gif\" title=\"변동없음\" width=\"7\"/> 0\n",
       " \t\t\t\t\t\t\n",
       " \t\t\t\t\t\n",
       " \t\t\t\t</span>\n",
       " </li>, <li class=\"rank05\">\n",
       " <a href=\"/webtoon/detail.nhn?titleId=730656&amp;no=60\" onclick=\"nclk_v2(event,'rnk*p.cont','730656','5')\" title=\"사신소년-60화 대면\">사신소년-60화 대면</a>\n",
       " <span class=\"rankBox\">\n",
       " <img alt=\"변동없음\" height=\"10\" src=\"https://ssl.pstatic.net/static/comic/images/migration/common/arrow_no.gif\" title=\"변동없음\" width=\"7\"/> 0\n",
       " \t\t\t\t\t\t\n",
       " \t\t\t\t\t\n",
       " \t\t\t\t</span>\n",
       " </li>, <li class=\"rank06\">\n",
       " <a href=\"/webtoon/detail.nhn?titleId=738487&amp;no=35\" onclick=\"nclk_v2(event,'rnk*p.cont','738487','6')\" title=\"하루만 네가 되고 싶어-35. ??? ?? ????\">하루만 네가 되고 싶어-35. ??? ?? ????</a>\n",
       " <span class=\"rankBox\">\n",
       " <img alt=\"변동없음\" height=\"10\" src=\"https://ssl.pstatic.net/static/comic/images/migration/common/arrow_no.gif\" title=\"변동없음\" width=\"7\"/> 0\n",
       " \t\t\t\t\t\t\n",
       " \t\t\t\t\t\n",
       " \t\t\t\t</span>\n",
       " </li>, <li class=\"rank07\">\n",
       " <a href=\"/webtoon/detail.nhn?titleId=738174&amp;no=37\" onclick=\"nclk_v2(event,'rnk*p.cont','738174','7')\" title=\"중증외상센터 : 골든 아워-37화 : 새로운 출발\">중증외상센터 : 골든 아워-37화 : 새로운 출발</a>\n",
       " <span class=\"rankBox\">\n",
       " <img alt=\"변동없음\" height=\"10\" src=\"https://ssl.pstatic.net/static/comic/images/migration/common/arrow_no.gif\" title=\"변동없음\" width=\"7\"/> 0\n",
       " \t\t\t\t\t\t\n",
       " \t\t\t\t\t\n",
       " \t\t\t\t</span>\n",
       " </li>, <li class=\"rank08\">\n",
       " <a href=\"/webtoon/detail.nhn?titleId=752072&amp;no=3\" onclick=\"nclk_v2(event,'rnk*p.cont','752072','8')\" title=\"후기-3화\">후기-3화</a>\n",
       " <span class=\"rankBox\">\n",
       " <img alt=\"변동없음\" height=\"10\" src=\"https://ssl.pstatic.net/static/comic/images/migration/common/arrow_no.gif\" title=\"변동없음\" width=\"7\"/> 0\n",
       " \t\t\t\t\t\t\n",
       " \t\t\t\t\t\n",
       " \t\t\t\t</span>\n",
       " </li>, <li class=\"rank09\">\n",
       " <a href=\"/webtoon/detail.nhn?titleId=683496&amp;no=181\" onclick=\"nclk_v2(event,'rnk*p.cont','683496','9')\" title=\"신도림-시즌2 41. DUO\">신도림-시즌2 41. DUO</a>\n",
       " <span class=\"rankBox\">\n",
       " <img alt=\"순위상승\" height=\"10\" src=\"https://ssl.pstatic.net/static/comic/images/migration/common/arrow_up.gif\" title=\"순위상승\" width=\"7\"/>1\n",
       " \t\t\t\t\t\t\n",
       " \t\t\t\t\t\t\n",
       " \t\t\t\t\t\n",
       " \t\t\t\t</span>\n",
       " </li>, <li class=\"rank10\">\n",
       " <a href=\"/webtoon/detail.nhn?titleId=740034&amp;no=30\" onclick=\"nclk_v2(event,'rnk*p.cont','740034','10')\" title=\"견우와 선녀-30화\">견우와 선녀-30화</a>\n",
       " <span class=\"rankBox\">\n",
       " <img alt=\"순위하락\" height=\"10\" src=\"https://ssl.pstatic.net/static/comic/images/migration/common/arrow_down.gif\" title=\"순위하락\" width=\"7\"/>1\n",
       " \t\t\t\t\t\t\n",
       " \t\t\t\t\t\t\n",
       " \t\t\t\t\t\t\n",
       " \t\t\t\t\t\n",
       " \t\t\t\t</span>\n",
       " </li>]"
      ]
     },
     "execution_count": 36,
     "metadata": {},
     "output_type": "execute_result"
    }
   ],
   "source": [
    "# 모든 정보를 다 가져오기\n",
    "rank1.find_next_siblings('li')"
   ]
  },
  {
   "cell_type": "code",
   "execution_count": 31,
   "metadata": {},
   "outputs": [
    {
     "data": {
      "text/plain": [
       "<ol class=\"asideBoxRank\" id=\"realTimeRankFavorite\">\n",
       "<li class=\"rank01\">\n",
       "<a href=\"/webtoon/detail.nhn?titleId=703846&amp;no=125\" onclick=\"nclk_v2(event,'rnk*p.cont','703846','1')\" title=\"여신강림-120화\">여신강림-120화</a>\n",
       "<span class=\"rankBox\">\n",
       "<img alt=\"변동없음\" height=\"10\" src=\"https://ssl.pstatic.net/static/comic/images/migration/common/arrow_no.gif\" title=\"변동없음\" width=\"7\"/> 0\n",
       "\t\t\t\t\t\t\n",
       "\t\t\t\t\t\n",
       "\t\t\t\t</span>\n",
       "</li>\n",
       "<li class=\"rank02\">\n",
       "<a href=\"/webtoon/detail.nhn?titleId=703852&amp;no=113\" onclick=\"nclk_v2(event,'rnk*p.cont','703852','2')\" title=\"바른연애 길잡이-113\">바른연애 길잡이-113</a>\n",
       "<span class=\"rankBox\">\n",
       "<img alt=\"변동없음\" height=\"10\" src=\"https://ssl.pstatic.net/static/comic/images/migration/common/arrow_no.gif\" title=\"변동없음\" width=\"7\"/> 0\n",
       "\t\t\t\t\t\t\n",
       "\t\t\t\t\t\n",
       "\t\t\t\t</span>\n",
       "</li>\n",
       "<li class=\"rank03\">\n",
       "<a href=\"/webtoon/detail.nhn?titleId=743139&amp;no=14\" onclick=\"nclk_v2(event,'rnk*p.cont','743139','3')\" title=\"한림체육관-14화\">한림체육관-14화</a>\n",
       "<span class=\"rankBox\">\n",
       "<img alt=\"변동없음\" height=\"10\" src=\"https://ssl.pstatic.net/static/comic/images/migration/common/arrow_no.gif\" title=\"변동없음\" width=\"7\"/> 0\n",
       "\t\t\t\t\t\t\n",
       "\t\t\t\t\t\n",
       "\t\t\t\t</span>\n",
       "</li>\n",
       "<li class=\"rank04\">\n",
       "<a href=\"/webtoon/detail.nhn?titleId=702608&amp;no=145\" onclick=\"nclk_v2(event,'rnk*p.cont','702608','4')\" title=\"랜덤채팅의 그녀!-145. 해일(1)\">랜덤채팅의 그녀!-145. 해일(1)</a>\n",
       "<span class=\"rankBox\">\n",
       "<img alt=\"변동없음\" height=\"10\" src=\"https://ssl.pstatic.net/static/comic/images/migration/common/arrow_no.gif\" title=\"변동없음\" width=\"7\"/> 0\n",
       "\t\t\t\t\t\t\n",
       "\t\t\t\t\t\n",
       "\t\t\t\t</span>\n",
       "</li>\n",
       "<li class=\"rank05\">\n",
       "<a href=\"/webtoon/detail.nhn?titleId=730656&amp;no=60\" onclick=\"nclk_v2(event,'rnk*p.cont','730656','5')\" title=\"사신소년-60화 대면\">사신소년-60화 대면</a>\n",
       "<span class=\"rankBox\">\n",
       "<img alt=\"변동없음\" height=\"10\" src=\"https://ssl.pstatic.net/static/comic/images/migration/common/arrow_no.gif\" title=\"변동없음\" width=\"7\"/> 0\n",
       "\t\t\t\t\t\t\n",
       "\t\t\t\t\t\n",
       "\t\t\t\t</span>\n",
       "</li>\n",
       "<li class=\"rank06\">\n",
       "<a href=\"/webtoon/detail.nhn?titleId=738487&amp;no=35\" onclick=\"nclk_v2(event,'rnk*p.cont','738487','6')\" title=\"하루만 네가 되고 싶어-35. ??? ?? ????\">하루만 네가 되고 싶어-35. ??? ?? ????</a>\n",
       "<span class=\"rankBox\">\n",
       "<img alt=\"변동없음\" height=\"10\" src=\"https://ssl.pstatic.net/static/comic/images/migration/common/arrow_no.gif\" title=\"변동없음\" width=\"7\"/> 0\n",
       "\t\t\t\t\t\t\n",
       "\t\t\t\t\t\n",
       "\t\t\t\t</span>\n",
       "</li>\n",
       "<li class=\"rank07\">\n",
       "<a href=\"/webtoon/detail.nhn?titleId=738174&amp;no=37\" onclick=\"nclk_v2(event,'rnk*p.cont','738174','7')\" title=\"중증외상센터 : 골든 아워-37화 : 새로운 출발\">중증외상센터 : 골든 아워-37화 : 새로운 출발</a>\n",
       "<span class=\"rankBox\">\n",
       "<img alt=\"변동없음\" height=\"10\" src=\"https://ssl.pstatic.net/static/comic/images/migration/common/arrow_no.gif\" title=\"변동없음\" width=\"7\"/> 0\n",
       "\t\t\t\t\t\t\n",
       "\t\t\t\t\t\n",
       "\t\t\t\t</span>\n",
       "</li>\n",
       "<li class=\"rank08\">\n",
       "<a href=\"/webtoon/detail.nhn?titleId=752072&amp;no=3\" onclick=\"nclk_v2(event,'rnk*p.cont','752072','8')\" title=\"후기-3화\">후기-3화</a>\n",
       "<span class=\"rankBox\">\n",
       "<img alt=\"변동없음\" height=\"10\" src=\"https://ssl.pstatic.net/static/comic/images/migration/common/arrow_no.gif\" title=\"변동없음\" width=\"7\"/> 0\n",
       "\t\t\t\t\t\t\n",
       "\t\t\t\t\t\n",
       "\t\t\t\t</span>\n",
       "</li>\n",
       "<li class=\"rank09\">\n",
       "<a href=\"/webtoon/detail.nhn?titleId=683496&amp;no=181\" onclick=\"nclk_v2(event,'rnk*p.cont','683496','9')\" title=\"신도림-시즌2 41. DUO\">신도림-시즌2 41. DUO</a>\n",
       "<span class=\"rankBox\">\n",
       "<img alt=\"순위상승\" height=\"10\" src=\"https://ssl.pstatic.net/static/comic/images/migration/common/arrow_up.gif\" title=\"순위상승\" width=\"7\"/>1\n",
       "\t\t\t\t\t\t\n",
       "\t\t\t\t\t\t\n",
       "\t\t\t\t\t\n",
       "\t\t\t\t</span>\n",
       "</li>\n",
       "<li class=\"rank10\">\n",
       "<a href=\"/webtoon/detail.nhn?titleId=740034&amp;no=30\" onclick=\"nclk_v2(event,'rnk*p.cont','740034','10')\" title=\"견우와 선녀-30화\">견우와 선녀-30화</a>\n",
       "<span class=\"rankBox\">\n",
       "<img alt=\"순위하락\" height=\"10\" src=\"https://ssl.pstatic.net/static/comic/images/migration/common/arrow_down.gif\" title=\"순위하락\" width=\"7\"/>1\n",
       "\t\t\t\t\t\t\n",
       "\t\t\t\t\t\t\n",
       "\t\t\t\t\t\t\n",
       "\t\t\t\t\t\n",
       "\t\t\t\t</span>\n",
       "</li>\n",
       "</ol>"
      ]
     },
     "execution_count": 31,
     "metadata": {},
     "output_type": "execute_result"
    }
   ],
   "source": [
    "# 부모 객체\n",
    "rank1.parent"
   ]
  },
  {
   "cell_type": "code",
   "execution_count": null,
   "metadata": {},
   "outputs": [],
   "source": []
  },
  {
   "cell_type": "code",
   "execution_count": null,
   "metadata": {},
   "outputs": [],
   "source": []
  }
 ],
 "metadata": {
  "kernelspec": {
   "display_name": "Python 3",
   "language": "python",
   "name": "python3"
  },
  "language_info": {
   "codemirror_mode": {
    "name": "ipython",
    "version": 3
   },
   "file_extension": ".py",
   "mimetype": "text/x-python",
   "name": "python",
   "nbconvert_exporter": "python",
   "pygments_lexer": "ipython3",
   "version": "3.6.8"
  }
 },
 "nbformat": 4,
 "nbformat_minor": 4
}
