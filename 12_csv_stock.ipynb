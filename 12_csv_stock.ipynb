{
 "cells": [
  {
   "cell_type": "markdown",
   "metadata": {},
   "source": [
    "#"
   ]
  },
  {
   "cell_type": "code",
   "execution_count": 2,
   "metadata": {},
   "outputs": [],
   "source": [
    "import csv\n",
    "import requests\n",
    "from bs4 import BeautifulSoup"
   ]
  },
  {
   "cell_type": "code",
   "execution_count": 3,
   "metadata": {},
   "outputs": [],
   "source": [
    "url = 'https://finance.naver.com/sise/sise_market_sum.nhn?sosok=0&page='"
   ]
  },
  {
   "cell_type": "code",
   "execution_count": 14,
   "metadata": {},
   "outputs": [
    {
     "name": "stdout",
     "output_type": "stream",
     "text": [
      "<class 'list'>\n"
     ]
    }
   ],
   "source": [
    "filename = '시가총액1~200.csv'\n",
    "f = open(filename, 'w', encoding='utf-8-sig', newline='') # newline이 없는 경우 \\n 2번 들어갈 수 있음\n",
    "writer = csv.writer(f)\n",
    "title = 'N\t종목명\t현재가\t전일비\t등락률\t액면가\t시가총액\t상장주식수\t외국인비율\t거래량\tPER\tROE'.split('\\t')\n",
    "print(type(title))\n",
    "writer.writerow(title)\n",
    "\n",
    "for page in range(1, 2):\n",
    "    res = requests.get(url + str(page))\n",
    "    res.raise_for_status()\n",
    "    soup = BeautifulSoup(res.text, 'lxml')\n",
    "    \n",
    "    data_rows = soup.find('table', attrs={'class':'type_2'}).find('tbody').find_all('tr')\n",
    "    for row in data_rows:\n",
    "        columns = row.find_all('td')\n",
    "        if len(columns) <= 1: # 의미 없는 데이터는 skip\n",
    "            continue\n",
    "        data = [column.get_text().strip() for column in columns]\n",
    "#         print(data)\n",
    "        writer.writerow(data)"
   ]
  },
  {
   "cell_type": "code",
   "execution_count": null,
   "metadata": {},
   "outputs": [],
   "source": []
  }
 ],
 "metadata": {
  "kernelspec": {
   "display_name": "Python 3",
   "language": "python",
   "name": "python3"
  },
  "language_info": {
   "codemirror_mode": {
    "name": "ipython",
    "version": 3
   },
   "file_extension": ".py",
   "mimetype": "text/x-python",
   "name": "python",
   "nbconvert_exporter": "python",
   "pygments_lexer": "ipython3",
   "version": "3.6.9"
  }
 },
 "nbformat": 4,
 "nbformat_minor": 4
}
