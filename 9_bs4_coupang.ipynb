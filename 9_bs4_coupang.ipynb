{
 "cells": [
  {
   "cell_type": "markdown",
   "metadata": {},
   "source": [
    "# BeautifulSoup - coupang\n",
    "---\n",
    "HTTP method\n",
    "> __GET__: 내용을 url에 적어서 보내는 방식*(한번에 보낼수 있는 양의 제한이 있음)*\n",
    "\n",
    "\n",
    "> __POST__: HTTP message 'body'에 숨겨서 보내는 방식*(보안이 필요한 경우 장점)*\n",
    "\n"
   ]
  },
  {
   "cell_type": "code",
   "execution_count": 42,
   "metadata": {},
   "outputs": [],
   "source": [
    "import requests\n",
    "from bs4 import BeautifulSoup"
   ]
  },
  {
   "cell_type": "code",
   "execution_count": 27,
   "metadata": {},
   "outputs": [],
   "source": [
    "url = 'https://www.coupang.com/np/search?q=%EB%85%B8%ED%8A%B8%EB%B6%81&channel=user&component=&eventCategory=SRP&trcid=&traid=&sorter=scoreDesc&minPrice=&maxPrice=&priceRange=&filterType=&listSize=36&filter=&isPriceRange=false&brand=&offerCondition=&rating=0&page=1&rocketAll=false&searchIndexingToken=1=4&backgroundColor='\n",
    "headers = {'User-Agent':'Mozilla/5.0 (Windows NT 10.0; Win64; x64; rv:79.0) Gecko/20100101 Firefox/79.0'}\n",
    "res = requests.get(url, headers= headers)\n",
    "res.raise_for_status()\n",
    "soup = BeautifulSoup(res.text, 'lxml')"
   ]
  },
  {
   "cell_type": "code",
   "execution_count": 28,
   "metadata": {},
   "outputs": [
    {
     "data": {
      "text/plain": [
       "'삼성전자 2020 갤럭시북 플렉스 NT950QCG-X716A (i7-1065G7 39.6cm MX250), NVMe 1TB, 16GB, WIN10 Home'"
      ]
     },
     "execution_count": 28,
     "metadata": {},
     "output_type": "execute_result"
    }
   ],
   "source": [
    "# notebook items\n",
    "items = soup.find_all('li', attrs={'class':'search-product'})\n",
    "items[0].find('div', attrs={'class':'name'}).get_text()"
   ]
  },
  {
   "cell_type": "code",
   "execution_count": 29,
   "metadata": {},
   "outputs": [
    {
     "data": {
      "text/plain": [
       "'LG전자 울트라PC 노트북 14U390-EE2TK (인텔 펜티엄 실버 N5000 35.5cm WIN10S), 포함, SSD 128GB + eMMC 64GB, 4GB'"
      ]
     },
     "execution_count": 29,
     "metadata": {},
     "output_type": "execute_result"
    }
   ],
   "source": [
    "items[1].find('div', attrs={'class':'name'}).get_text()"
   ]
  },
  {
   "cell_type": "code",
   "execution_count": 30,
   "metadata": {},
   "outputs": [
    {
     "data": {
      "text/plain": [
       "'538,000'"
      ]
     },
     "execution_count": 30,
     "metadata": {},
     "output_type": "execute_result"
    }
   ],
   "source": [
    "# price info\n",
    "items[1].find('strong', attrs={'class':'price-value'}).get_text()"
   ]
  },
  {
   "cell_type": "code",
   "execution_count": 31,
   "metadata": {},
   "outputs": [
    {
     "name": "stdout",
     "output_type": "stream",
     "text": [
      "삼성전자 2020 갤럭시북 플렉스 NT950QCG-X716A (i7-1065G7 39.6cm MX250), NVMe 1TB, 16GB, WIN10 Home 2,599,000 4.5 (95)\n",
      "LG전자 울트라PC 노트북 14U390-EE2TK (인텔 펜티엄 실버 N5000 35.5cm WIN10S), 포함, SSD 128GB + eMMC 64GB, 4GB 538,000 4.5 (25)\n",
      "아이뮤즈 노트북 STORMBOOK (N3350 35.8cm WIN10 Graphics 500) + MS오피스, 포함, eMMC 64GB, 4GB 268,770 4.5 (31)\n",
      "삼성전자 노트북 플러스 NT550XCR-AD1A 플래티넘 티탄 (Celeron 5205U 39.6cm), NVMe 128GB, 4GB, WIN10 Home 628,000 5.0 (43)\n",
      "삼성전자 갤럭시북 이온 노트북 NT930XCJ-K716A 아우라 실버 (i7-10510U 33.7cm), NVMe 512GB, 16GB, WIN10 Home 1,842,030 4.0 (18)\n",
      "삼성 NT200B5C (i5-3210M/4G/SSD128G/HD4000/윈7/15), 4GB, SSD 128GB, 포함 249,000 5.0 (2)\n",
      "주연테크 캐리북T 메탈슬림 터치 노트북 J3GP Pro (Intel Gemini Pentium Silver Quad Core N5000 33.782cm WIN10 Pro UHD Graphics 605), 포함, eMMC 64GB, 4GB 359,000 4.0 (12)\n",
      "LG전자 그램14 노트북 (35.5cm WIN미포함 SSD128G), 팬티엄 5405U, 4GB 870,600 5.0 (40)\n",
      "LG PC그램 14Z960 6세대 i5탑재 윈도우10 사은품 증정, 8GB, SSD 256GB, 윈도우 10 699,000 평점 없음 평점 없음\n",
      "아이뮤즈 스톰북 13 플러스 노트북 다크그레이 StormBook13 (아톰-Z8350 33.7cm WIN10 Home), 포함, 64GB, 2GB 239,000 3.5 (14)\n",
      "레노버 ThinkPad 노트북 E595-S01P (Ryzen5 3500U 39.6cm), 256GB, 8GB 628,000 5.0 (89)\n",
      "삼성전자 노트북 플러스 NT550XCR-AD1WA 화이트 (Celeron 5205U 39.6cm), NVMe 128GB, 4GB, WIN10 Home 628,000 5.0 (19)\n",
      "삼성전자 노트북 플러스 NT550XCJ-K78WA 퓨어 화이트 (i7-10510U 39.6cm), NVMe 256GB, 8GB + 8GB, WIN10 Home 1,379,000 5.0 (126)\n",
      "에이수스 비보북 14 라이젠 노트북 X412DA 슬레이트 그레이 (WIN10 Home 35.6cm RAM 4GB 추가장착), R3-3200U, SSD 128GB, Vega 3 Graphics 519,000 5.0 (24)\n",
      "레노버 노트북 V14-ARE 82DQ003AKR (R5-4500U 35.56cm WIN미포함), 미포함, NVMe 256GB, 8GB 449,000 4.5 (88)\n",
      "아이뮤즈 스톰북 15프로 (m3-6y30 39.6cm WIN미포함 8GB eMMC 64GB HD515), StormBook15 PRO, 로즈골드 431,070 4.0 (15)\n",
      "HP 노트북 14s-dq1016TU (i5-1035G1 35.5cm WIN10 RAM 4GB SSD 128GB FHD IPS), Snow White 637,200 4.5 (17)\n",
      "LG전자 2020년 울트라PC 노트북 15UD50N-LX20K (펜티엄 39.6cm ), 미포함, NVMe 256GB, 4GB 569,000 평점 없음 평점 없음\n",
      "에이수스 노트북 X409MA-EB099 (셀러론 N4000 35.56cm), 미포함, NVMe 256GB, 4GB 328,830 4.0 (6)\n",
      "삼성전자 Flash 노트북 NT530XBB-K24CS (펜티엄 소프트 코랄 N5000 33.7cm), SSD 128GB, 4GB, WIN10 Home 678,990 5.0 (12)\n",
      "삼성전자 노트북 플러스 플래티넘 티탄 NT550XCR-AD1A (셀러론 5205U 39.6cm), 미포함, NVMe 128GB, 8GB 498,000 5.0 (1)\n",
      "아이뮤즈 스톰북 14 노트북 (펜티엄-N3350 36cm WIN미포함 RAM 4GB 64GB), 미포함, 64GB 201,520 4.0 (25)\n",
      "레노버 ideapad S540-14API METAL WIN10 노트북 81NH000YKR (라이젠 5 3500U 35.5cm), 256GB, 8GB, WIN10 Home 679,000 5.0 (8)\n",
      "이그닉 바이북 14X 2020 기본형 IG-BYB14102-A (Intel Pentium Silver N500 Gemini Lake 35.8cm WIN 미포함 Intel UHD Graphics 605), SSD 512GB, 8GB 461,700 4.0 (32)\n",
      "삼성 슬림 삼성노트북 i7-4세대 8G SSD240G 15.6인치 WIN10, 8GB, SSD 240GB, 포함 549,000 4.5 (8)\n",
      "레노버 노트북 Graphite Grey Flex 5 14IIL I5 W10(i5-1035G1 35.5cm WIN10 Home), 포함, 256GB SSD, 8GB 898,990 4.5 (2)\n",
      "삼성 NT200B5C (i5-3210M/4G/SSD128G/HD4000/윈7/15), 4GB, SSD 128GB, 포함 249,000 5.0 (2)\n",
      "LG전자 울트라PC 노트북 15UD490-GX56K (R5-2500U 39.6cm), SSD 256GB, 8GB, Free DOS 699,000 4.5 (83)\n",
      "Apple 2020 맥북 에어 13, Space gray, 10세대 i5-1.1GHz quad-core, SSD 512GB, 8GB 1,598,700 5.0 (506)\n",
      "삼성전자 노트북 Pen Crush White NT930QBE-K37WD (i3-8145U 33.7cm WIN10 Home), 포함, NVMe 256GB, 8GB 1,151,040 4.5 (5)\n",
      "삼성전자 갤럭시북 이온 노트북 NT950XCR-A38A 아우라 실버 (i3-10110U 39.6cm), NVMe 256GB, 8GB, WIN10 Home 1,410,000 4.5 (16)\n",
      "삼성전자 노트북 Plus NT550XCR-AD5A 퓨어 화이트 (i5-10210U 39.6cm), NVMe 256GB, 8GB, WIN10 Home 1,119,000 4.5 (22)\n",
      "델 Inspiron 14 5405 노트북 플래티넘 실버 DN5405-WH02KR (라이젠5-4500U 35.5cm WIN10 Home), 포함, NVMe 512GB, 8GB 928,990 평점 없음 평점 없음\n",
      "HP Pavilion 15-cs3045TU (10세대 i5-1035G1 39.62cm 8GB WIN10 SSD 256GB + HDD 1TB), 포함, SSD 256GB + HDD 1TB 983,000 4.5 (3)\n",
      "LG전자 울트라PC 노트북 15U50N-KR56K 화이트 (i5-10210U 39.6cm MX250), NVMe 256GB, 8GB, WIN10 Home 1,070,900 5.0 (7)\n",
      "LG전자 울트라PC 노트북 14U390-ME1TK (셀러론 N4100 35.5cm WIN10 S) + 마인크래프트 스타터 컬렉션, 포함, eMMC 64GB, 4GB 449,000 평점 없음 평점 없음\n",
      "삼성 노트북 코어i5 SSD탑재 NT200B5B 블랙, 4GB, SSD128G, 윈도우7 269,000 3.5 (42)\n",
      "삼성전자 2020 갤럭시북 플렉스 NT950QCT-A58A 로얄블루 (i5-1035G4 39.6cm), NVMe 256GB, 8GB, WIN10 Home 1,927,000 4.5 (73)\n",
      "에이수스 Laptop 15 노트북 투명 실버 X509MA-BQ149 (셀러론 N4000 39.8cm WIN미포함), 미포함, NVMe 256GB, 4GB 349,000 4.5 (4)\n",
      "레노버 노트북 라이트 틸 블루 IdeaPad SLIM5-14ARE RYZEN7 WIN10 (라이젠7-4700U 35.5cm WIN10 Home), 포함, NVMe 256GB, 8GB 919,000 4.5 (2)\n"
     ]
    }
   ],
   "source": [
    "for i in items:\n",
    "    name = i.find('div', attrs={'class':'name'}).get_text() # 제품명\n",
    "    price = i.find('strong', attrs={'class':'price-value'}).get_text() # 가격\n",
    "\n",
    "    rate = i.find('em', attrs={'class':'rating'}) # 가격\n",
    "    if rate:\n",
    "        rate = rate.get_text()\n",
    "    else:\n",
    "        rate = '평점 없음'\n",
    "        \n",
    "    rate_count = i.find('span', attrs={'class':'rating-total-count'}) # 평점 수\n",
    "    if rate_count:\n",
    "        rate_count = rate_count.get_text()\n",
    "    else:\n",
    "        rate_count = '평점 없음'\n",
    "        \n",
    "    print(name, price, rate, rate_count)"
   ]
  },
  {
   "cell_type": "code",
   "execution_count": 41,
   "metadata": {},
   "outputs": [
    {
     "name": "stdout",
     "output_type": "stream",
     "text": [
      "<광고 제외>\n",
      "<광고 제외>\n",
      "<광고 제외>\n",
      "<광고 제외>\n",
      "삼성전자 노트북 플러스 NT550XCJ-K78WA 퓨어 화이트 (i7-10510U 39.6cm), NVMe 256GB, 8GB + 8GB, WIN10 Home 1,379,000 5.0 126\n",
      "<평점 없음 제외>\n",
      "<Apple 상품 제외>\n",
      "<평점 없음 제외>\n",
      "<평점 없음 제외>\n"
     ]
    }
   ],
   "source": [
    "for i in items:\n",
    "    # 광고 상품은 제외\n",
    "    ad_badge = i.find('span', attrs={'class':'ad-badge-text'})\n",
    "    if ad_badge:\n",
    "        print('<광고 제외>')\n",
    "        continue\n",
    "        \n",
    "        \n",
    "    name = i.find('div', attrs={'class':'name'}).get_text() # 제품명\n",
    "    # apply 제품 제외\n",
    "    if 'Apple' in name:\n",
    "        print('<Apple 상품 제외>')\n",
    "        continue\n",
    "    price = i.find('strong', attrs={'class':'price-value'}).get_text() # 가격\n",
    "   \n",
    "    rate = i.find('em', attrs={'class':'rating'}) # 가격\n",
    "    if rate:\n",
    "        rate = rate.get_text()\n",
    "    else:\n",
    "        print('<평점 없음 제외>')\n",
    "        continue\n",
    "        \n",
    "    rate_cnt = i.find('span', attrs={'class':'rating-total-count'}) # 평점 수\n",
    "    if rate_cnt:\n",
    "        rate_cnt = rate_cnt.get_text()\n",
    "        rate_cnt = rate_cnt[1:-1]\n",
    "    else:\n",
    "        print('<평점 없음 제외>')\n",
    "        continue\n",
    "    \n",
    "    if float(rate) >= 4.5 and int(rate_cnt) >= 100:\n",
    "        print(name, price, rate, rate_cnt)"
   ]
  },
  {
   "cell_type": "code",
   "execution_count": null,
   "metadata": {},
   "outputs": [],
   "source": []
  }
 ],
 "metadata": {
  "kernelspec": {
   "display_name": "Python 3",
   "language": "python",
   "name": "python3"
  },
  "language_info": {
   "codemirror_mode": {
    "name": "ipython",
    "version": 3
   },
   "file_extension": ".py",
   "mimetype": "text/x-python",
   "name": "python",
   "nbconvert_exporter": "python",
   "pygments_lexer": "ipython3",
   "version": "3.6.8"
  }
 },
 "nbformat": 4,
 "nbformat_minor": 4
}
