{
 "cells": [
  {
   "cell_type": "code",
   "execution_count": null,
   "metadata": {},
   "outputs": [],
   "source": []
  },
  {
   "cell_type": "code",
   "execution_count": 2,
   "metadata": {},
   "outputs": [],
   "source": [
    "import requests\n",
    "from bs4 import BeautifulSoup\n",
    "\n",
    "headers = {'User-Agent':'Mozilla/5.0 (Windows NT 10.0; Win64; x64; rv:79.0) Gecko/20100101 Firefox/79.0'}\n"
   ]
  },
  {
   "cell_type": "code",
   "execution_count": 12,
   "metadata": {},
   "outputs": [
    {
     "name": "stdout",
     "output_type": "stream",
     "text": [
      "제품명: 삼성전자 노트북 플러스 NT550XCJ-K78WA 퓨어 화이트 (i7-10510U 39.6cm), NVMe 256GB, 8GB + 8GB, WIN10 Home\n",
      "가격: 1,379,000\n",
      "평점: 5.0점 (126개)\n",
      "바로가기: https://www.coupang.com/vp/products/1459817856?itemId=2511843147&vendorItemId=70504880374\n",
      "\n",
      "제품명: 디클 클릭북 D14u (Celeron N4100 35.8cm WIN 10 eMMC 64GB m.2 SSD 128GB), 실버, 유선마우스 + 패드\n",
      "가격: 449,000\n",
      "평점: 4.5점 (111개)\n",
      "바로가기: https://www.coupang.com/vp/products/232787159?itemId=739419028&vendorItemId=4867071332\n",
      "\n",
      "제품명: LG전자 2020 그램15 노트북 15Z995-VR50K (i5-10210U 39.6cm), NVMe 256GB, 8GB, WIN10 Home\n",
      "가격: 1,509,010\n",
      "평점: 5.0점 (149개)\n",
      "바로가기: https://www.coupang.com/vp/products/1235351470?itemId=2229827753&vendorItemId=70227443130\n",
      "\n",
      "제품명: LG전자 2020 그램17 노트북 17ZD90N-VX70K 스노우 화이트 (i7-1065G7 43.1cm), NVMe 256GB, 8GB, Free DOS\n",
      "가격: 1,689,010\n",
      "평점: 4.5점 (138개)\n",
      "바로가기: https://www.coupang.com/vp/products/1665031215?itemId=2057670048&vendorItemId=70056945091\n",
      "\n",
      "제품명: 삼성전자 노트북 플러스 NT550XCJ-K78WA 퓨어 화이트 (i7-10510U 39.6cm), NVMe 256GB, 8GB, WIN10 Home\n",
      "가격: 1,348,000\n",
      "평점: 5.0점 (126개)\n",
      "바로가기: https://www.coupang.com/vp/products/1459817856?itemId=2605599210&vendorItemId=70596738668\n",
      "\n"
     ]
    }
   ],
   "source": [
    "for i in range(1,6,1):\n",
    "    url = 'https://www.coupang.com/np/search?q=%EB%85%B8%ED%8A%B8%EB%B6%81&channel=user&component=&eventCategory=SRP&trcid=&traid=&sorter=scoreDesc&minPrice=&maxPrice=&priceRange=&filterType=&listSize=36&filter=&isPriceRange=false&brand=&offerCondition=&rating=0&page={}&rocketAll=false&searchIndexingToken=1=4&backgroundColor='.format(i)\n",
    "    res = requests.get(url, headers=headers)\n",
    "    res.raise_for_status()\n",
    "    soup = BeautifulSoup(res.text, 'lxml')\n",
    "    # notebook items\n",
    "    items = soup.find_all('li', attrs={'class':'search-product'})\n",
    "    for item in items:\n",
    "        # 광고 상품은 제외\n",
    "        ad_badge = item.find('span', attrs={'class':'ad-badge-text'})\n",
    "        if ad_badge:\n",
    "#             print('<광고 제외>')\n",
    "            continue\n",
    "\n",
    "        name = item.find('div', attrs={'class':'name'}).get_text() # 제품명\n",
    "        # apply 제품 제외\n",
    "        if 'Apple' in name:\n",
    "#             print('<Apple 상품 제외>')\n",
    "            continue\n",
    "        price =item.find('strong', attrs={'class':'price-value'}).get_text() # 가격\n",
    "\n",
    "        rate = item.find('em', attrs={'class':'rating'}) # 가격\n",
    "        if rate:\n",
    "            rate = rate.get_text()\n",
    "        else:\n",
    "#             print('<평점 없음 제외>')\n",
    "            continue\n",
    "\n",
    "        rate_cnt = item.find('span', attrs={'class':'rating-total-count'}) # 평점 수\n",
    "        if rate_cnt:\n",
    "            rate_cnt = rate_cnt.get_text()[1:-1]\n",
    "        else:\n",
    "#             print('<평점 없음 제외>')\n",
    "            continue\n",
    "        \n",
    "        link = item.find('a', attrs={'class':'search-product-link'})['href']\n",
    "        \n",
    "        \n",
    "        if float(rate) >= 4.5 and int(rate_cnt) >= 100:\n",
    "#             print(name, price, rate, rate_cnt)    \n",
    "            print(f'제품명: {name}')\n",
    "            print(f'가격: {price}')\n",
    "            print(f'평점: {rate}점 ({rate_cnt}개)' )\n",
    "            print('바로가기: {}\\n'.format('https://www.coupang.com'+link))\n",
    "            "
   ]
  },
  {
   "cell_type": "code",
   "execution_count": null,
   "metadata": {},
   "outputs": [],
   "source": []
  }
 ],
 "metadata": {
  "kernelspec": {
   "display_name": "Python 3",
   "language": "python",
   "name": "python3"
  },
  "language_info": {
   "codemirror_mode": {
    "name": "ipython",
    "version": 3
   },
   "file_extension": ".py",
   "mimetype": "text/x-python",
   "name": "python",
   "nbconvert_exporter": "python",
   "pygments_lexer": "ipython3",
   "version": "3.6.9"
  }
 },
 "nbformat": 4,
 "nbformat_minor": 4
}
