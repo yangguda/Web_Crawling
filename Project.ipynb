{
 "cells": [
  {
   "cell_type": "markdown",
   "metadata": {},
   "source": [
    "# My assistant\n",
    "---\n"
   ]
  },
  {
   "cell_type": "code",
   "execution_count": 1,
   "metadata": {},
   "outputs": [
    {
     "name": "stdout",
     "output_type": "stream",
     "text": [
      "[오늘의 날씨]\n",
      "흐림, 어제보다 0˚ 높아요\n",
      "현재 28℃  (최저 26˚ / 최고 30˚)\n",
      "오전 강수확률 80% / 오후 강수확률 70%\n",
      "\n",
      "미세먼지 28㎍/㎥좋음\n",
      "초미세먼지 24㎍/㎥보통\n",
      "\n",
      "[헤드라인 뉴스]\n",
      "1. 트럼프, 70분간 바이든 작심 비난…\"미국 위대함 파괴자 될 것\"(종합)\n",
      " (link: https://news.naver.com/main/read.nhn?mode=LSD&mid=shm&sid1=104&oid=001&aid=0011844468)\n",
      "2. 정부 vs 의료계 맞고발…의협 '무기한 파업' 초강경 대응(종합)\n",
      " (link: https://news.naver.com/main/read.nhn?mode=LSD&mid=shm&sid1=101&oid=277&aid=0004745023)\n",
      "3. 이스타항공 직원들 “이상직 의원님, 212억 재산 회사엔 한푼도 못내나요?”\n",
      " (link: https://news.naver.com/main/read.nhn?mode=LSD&mid=shm&sid1=101&oid=366&aid=0000579847)\n",
      "\n",
      "[IT 뉴스]\n",
      "1. IPTV·위성·케이블TV서 'EBS 초중등 온라인 강의' 무료 시청\n",
      " (link: https://news.naver.com/main/read.nhn?mode=LS2D&mid=shm&sid1=105&sid2=230&oid=293&aid=0000030625)\n",
      "2. [단독] 넷마블 신작 '제2의 나라', 티저 페이지로 베일 벗다\n",
      " (link: https://news.naver.com/main/read.nhn?mode=LS2D&mid=shm&sid1=105&sid2=230&oid=293&aid=0000030624)\n",
      "3. 수수료 인하·영수증 분석…네이버, 빅데이터 활용해 소상공인과 상생\n",
      " (link: https://news.naver.com/main/read.nhn?mode=LS2D&mid=shm&sid1=105&sid2=230&oid=028&aid=0002510611)\n",
      "\n",
      "[오늘의 영어 회화]\n",
      "(영어 지문)\n",
      "Ms. Brown : I overheard Mrs. Rodriguez giving Rob some good news.\n",
      "John: And what news is that, Ms. Brown?\n",
      "Ms. Brown:You'll be getting a bonus and free merchandise from the company.\n",
      "John:That's great news!\n",
      "\n",
      "(한글 지문)\n",
      "Ms. Brown :Mrs.Rodriguez가 Rob에게 좋은 소식을 전해주는 것을 우연히 들었어요.\n",
      "John:무슨 소식인가요? Ms. Brown?\n",
      "Ms. Brown :당신은 회사로부터 보너스와 무료 상품을 받게 될 거예요.\n",
      "John:그것 정말 좋은 소식이군요!\n",
      "\n"
     ]
    }
   ],
   "source": [
    "import re\n",
    "import requests\n",
    "from bs4 import BeautifulSoup\n",
    "\n",
    "def create_soup(url):\n",
    "    res = requests.get(url)\n",
    "    res.raise_for_status()\n",
    "    soup = BeautifulSoup(res.text, 'lxml')\n",
    "    return soup\n",
    "\n",
    "def print_news(index, title, link):\n",
    "    print('{}. {}'.format(index + 1, title))\n",
    "    print(' (link: {})'.format(link))\n",
    "    \n",
    "def scrape_weather():\n",
    "    print('[오늘의 날씨]')\n",
    "    url = \"https://search.naver.com/search.naver?sm=top_hty&fbm=1&ie=utf8&query=%EC%84%9C%EC%9A%B8+%EB%82%A0%EC%94%A8\"\n",
    "    soup = create_soup(url)\n",
    "    # 흐림, 어제보다 00˚ 높아요\n",
    "    cast = soup.find('p', attrs={'class':'cast_txt'}).get_text()\n",
    "    # 현재 00˚C (최저 00˚ / 최고 00˚)\n",
    "    curr_temp = soup.find('p', attrs={'class':'info_temperature'}).get_text().replace(\"도씨\", \"\") # 현재 온도\n",
    "    min_temp = soup.find('span', attrs={'class':'min'}).get_text() # 최저 온도\n",
    "    max_temp = soup.find('span', attrs={'class':'max'}).get_text() # 최고 온도\n",
    "    # 오전 강수확율 00˚ / 오후 강수확율 00˚\n",
    "    morning_rain_rate = soup.find('span', attrs={'class':'point_time morning'}).get_text().strip() \n",
    "    afternoon_rain_rate = soup.find('span', attrs={'class':'point_time afternoon'}).get_text().strip()\n",
    "    \n",
    "    # 미세먼지 OO㎍/㎥좋음\n",
    "    # 초미세먼지 OO㎍/㎥좋음\n",
    "    dust = soup.find('dl', attrs={'class':'indicator'})\n",
    "    pm10 = dust.find_all('dd')[0].get_text() # 미세먼지\n",
    "    pm25 = dust.find_all(\"dd\")[1].get_text() # 초미세먼지\n",
    "\n",
    "    # 출력\n",
    "    print(cast)\n",
    "    print(\"현재 {} (최저 {} / 최고 {})\".format(curr_temp, min_temp, max_temp))\n",
    "    print(\"오전 {} / 오후 {}\".format(morning_rain_rate, afternoon_rain_rate))\n",
    "    print()\n",
    "    print(\"미세먼지 {}\".format(pm10))\n",
    "    print(\"초미세먼지 {}\".format(pm25))\n",
    "    print()\n",
    " "
   ]
  },
  {
   "cell_type": "code",
   "execution_count": null,
   "metadata": {},
   "outputs": [],
   "source": []
  }
 ],
 "metadata": {
  "kernelspec": {
   "display_name": "Python 3",
   "language": "python",
   "name": "python3"
  },
  "language_info": {
   "codemirror_mode": {
    "name": "ipython",
    "version": 3
   },
   "file_extension": ".py",
   "mimetype": "text/x-python",
   "name": "python",
   "nbconvert_exporter": "python",
   "pygments_lexer": "ipython3",
   "version": "3.6.9"
  }
 },
 "nbformat": 4,
 "nbformat_minor": 4
}
