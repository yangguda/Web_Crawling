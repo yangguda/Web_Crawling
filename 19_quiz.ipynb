{
 "cells": [
  {
   "cell_type": "markdown",
   "metadata": {},
   "source": [
    "# Daum Property\n",
    "---"
   ]
  },
  {
   "cell_type": "code",
   "execution_count": 2,
   "metadata": {},
   "outputs": [],
   "source": [
    "import requests\n",
    "from bs4 import BeautifulSoup"
   ]
  },
  {
   "cell_type": "code",
   "execution_count": 6,
   "metadata": {},
   "outputs": [],
   "source": [
    "url = 'https://search.daum.net/search?w=tot&DA=YZR&t__nil_searchbox=btn&sug=&sugo=&sq=&o=&q=%EC%86%A1%ED%8C%8C+%ED%97%AC%EB%A6%AC%EC%98%A4%EC%8B%9C%ED%8B%B0'\n",
    "res = requests.get(url)\n",
    "res.raise_for_status()\n",
    "soup = BeautifulSoup(res.text, 'lxml')"
   ]
  },
  {
   "cell_type": "code",
   "execution_count": 7,
   "metadata": {},
   "outputs": [],
   "source": [
    "with open(\"quiz.html\", \"w\", encoding=\"utf8\") as f:\n",
    "    f.write(soup.prettify())"
   ]
  },
  {
   "cell_type": "code",
   "execution_count": 8,
   "metadata": {},
   "outputs": [],
   "source": [
    "# table 구성정보\n",
    "table = soup.find('table', attrs={'class':'tbl'}).find('tbody').find_all('tr')"
   ]
  },
  {
   "cell_type": "code",
   "execution_count": 10,
   "metadata": {},
   "outputs": [
    {
     "name": "stdout",
     "output_type": "stream",
     "text": [
      "=========== 매물 1 ===========\n",
      "거래 : 전세\n",
      "면적 : 109/84 (공급/전용)\n",
      "가격 : 115,000 (만원)\n",
      "동 : 318동\n",
      "층 : 고/35\n",
      "=========== 매물 2 ===========\n",
      "거래 : 전세\n",
      "면적 : 109/84 (공급/전용)\n",
      "가격 : 115,000 (만원)\n",
      "동 : 318동\n",
      "층 : 고/35\n",
      "=========== 매물 3 ===========\n",
      "거래 : 전세\n",
      "면적 : 109/84 (공급/전용)\n",
      "가격 : 115,000 (만원)\n",
      "동 : 318동\n",
      "층 : 고/35\n",
      "=========== 매물 4 ===========\n",
      "거래 : 전세\n",
      "면적 : 109/84 (공급/전용)\n",
      "가격 : 115,000 (만원)\n",
      "동 : 318동\n",
      "층 : 고/35\n",
      "=========== 매물 5 ===========\n",
      "거래 : 전세\n",
      "면적 : 107/84 (공급/전용)\n",
      "가격 : 106,000 (만원)\n",
      "동 : 501동\n",
      "층 : 고/15\n"
     ]
    }
   ],
   "source": [
    "data_rows = soup.find(\"table\", attrs={\"class\":\"tbl\"}).find(\"tbody\").find_all(\"tr\")\n",
    "for index, row in enumerate(data_rows):\n",
    "    columns = row.find_all(\"td\")\n",
    "    print(\"=========== 매물 {} ===========\".format(index+1))\n",
    "    print(\"거래 :\", columns[0].get_text().strip())\n",
    "    print(\"면적 :\", columns[1].get_text().strip(), \"(공급/전용)\")\n",
    "    print(\"가격 :\", columns[2].get_text().strip(), \"(만원)\")\n",
    "    print(\"동 :\", columns[3].get_text().strip())\n",
    "    print(\"층 :\", columns[4].get_text().strip())"
   ]
  },
  {
   "cell_type": "code",
   "execution_count": null,
   "metadata": {},
   "outputs": [],
   "source": []
  }
 ],
 "metadata": {
  "kernelspec": {
   "display_name": "Python 3",
   "language": "python",
   "name": "python3"
  },
  "language_info": {
   "codemirror_mode": {
    "name": "ipython",
    "version": 3
   },
   "file_extension": ".py",
   "mimetype": "text/x-python",
   "name": "python",
   "nbconvert_exporter": "python",
   "pygments_lexer": "ipython3",
   "version": "3.6.9"
  }
 },
 "nbformat": 4,
 "nbformat_minor": 4
}
