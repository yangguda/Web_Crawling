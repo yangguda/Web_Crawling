{
 "cells": [
  {
   "cell_type": "code",
   "execution_count": 77,
   "metadata": {},
   "outputs": [],
   "source": [
    "from selenium import webdriver\n",
    "from selenium.webdriver.common.keys import Keys # 글자 입력을 위해 module 필요\n",
    "import time\n",
    "\n",
    "time.sleep(1) # delay code"
   ]
  },
  {
   "cell_type": "code",
   "execution_count": 65,
   "metadata": {},
   "outputs": [],
   "source": [
    "# naver 테스트\n",
    "browser = webdriver.Chrome('C:/chromedriver_win32/chromedriver.exe') # driver path\n",
    "browser.get('http://naver.com')"
   ]
  },
  {
   "cell_type": "code",
   "execution_count": 66,
   "metadata": {},
   "outputs": [],
   "source": [
    "elem = browser.find_element_by_class_name('link_login')"
   ]
  },
  {
   "cell_type": "code",
   "execution_count": 67,
   "metadata": {},
   "outputs": [],
   "source": [
    "elem.click()"
   ]
  },
  {
   "cell_type": "code",
   "execution_count": 80,
   "metadata": {},
   "outputs": [],
   "source": [
    "# browser.find_element_by_id('id').clear() # input text clear\n",
    "browser.find_element_by_id('id').send_keys('naver_id') "
   ]
  },
  {
   "cell_type": "code",
   "execution_count": 75,
   "metadata": {},
   "outputs": [],
   "source": [
    "browser.find_element_by_id('pw').send_keys('naver_pw')"
   ]
  },
  {
   "cell_type": "code",
   "execution_count": 73,
   "metadata": {},
   "outputs": [],
   "source": [
    "browser.find_element_by_id('log.login').click()"
   ]
  },
  {
   "cell_type": "code",
   "execution_count": 82,
   "metadata": {},
   "outputs": [
    {
     "name": "stdout",
     "output_type": "stream",
     "text": [
      "<html lang=\"en\"><head>\n",
      "\t<meta charset=\"UTF-8\">\n",
      "\t<meta http-equiv=\"X-UA-Compatible\" content=\"IE=edge\">\n",
      "\t<meta name=\"viewport\" content=\"width=device-width, initial-scale=1.0, maximum-scale=1.0, minimum-scale=1.0, user-scalable=no\">\n",
      "\t<meta property=\"og:type\" content=\"website\">\n",
      "\t<meta property=\"og:title\" content=\"[네이버: 로그인]\">\n",
      "\t<meta property=\"og:description\" content=\"안전한 로그인을 위해 주소창의 URL과 자물쇠 마크를 확인하세요!\">\n",
      "\t<meta property=\"og:image\" content=\"https://ssl.pstatic.net/sstatic/search/common/og_v3.png\">\n",
      "\t<meta property=\"og:image:type\" content=\"image/png\">\n",
      "\t<meta property=\"og:image:width\" content=\"1200\">\n",
      "\t<meta property=\"og:image:height\" content=\"1200\">\t\t\n",
      "\t<title>Naver Sign in</title>\n",
      "\t<link rel=\"stylesheet\" type=\"text/css\" href=\"https://nid.naver.com/login/css/global/desktop/w_20200707.css?20200728\">\n",
      "</head>\n",
      "<body class=\"global chrome\">\n",
      "<div id=\"wrap\">\n",
      "    <div id=\"u_skip\">\n",
      "        <a href=\"#content\" id=\"u_skip_anchor\"><span>본문으로 바로가기</span></a>\n",
      "    </div>\n",
      "\t<!-- header -->\n",
      "\t<div id=\"header\">\n",
      "\t\t<h1><a href=\"https://www.naver.com\" class=\"sp h_logo\" id=\"log.naver\"><span class=\"blind\">NAVER</span></a></h1>\n",
      "\t\t<div class=\"lang\">\n",
      "\t\t\t<select id=\"locale_switch\" name=\"locale_switch\" title=\"언어선택\" class=\"sel\">\n",
      "\t\t\t\t<option value=\"ko_KR\">한국어</option>\n",
      "\t\t\t\t<option value=\"en_US\">English</option>\n",
      "\t\t\t\t<option value=\"zh-Hans_CN\">中文(简体)</option>\n",
      "\t\t\t\t<option value=\"zh-Hant_TW\">中文(台灣)</option>\n",
      "\t\t\t</select>\n",
      "\t\t</div>\n",
      "\t</div>\n",
      "\t<div id=\"container\">\n",
      "\t\t<!-- content -->\n",
      "\t\t<div id=\"content\">\n",
      "\t\t\t<div class=\"title\" aria-live=\"assertive\">\n",
      "\t\t\t\t<p></p>\n",
      "\t\t\t</div>\n",
      "\t\t\t\t<form id=\"frmNIDLogin\" name=\"frmNIDLogin\" target=\"_top\" autocomplete=\"off\" action=\"https://nid.naver.com/nidlogin.login\" method=\"POST\">\n",
      "\t\t\t\t<input type=\"hidden\" id=\"localechange\" name=\"localechange\" value=\"\">\n",
      "\t\t\t\t<input type=\"hidden\" name=\"encpw\" id=\"encpw\" value=\"\">\n",
      "<input type=\"hidden\" name=\"enctp\" id=\"enctp\" value=\"1\">\n",
      "<input type=\"hidden\" name=\"svctype\" id=\"svctype\" value=\"1\">\n",
      "<input type=\"hidden\" name=\"smart_LEVEL\" id=\"smart_LEVEL\" value=\"1\">\n",
      "<input type=\"hidden\" name=\"bvsd\" id=\"bvsd\" value=\"\">\n",
      "<input type=\"hidden\" name=\"encnm\" id=\"encnm\" value=\"\">\n",
      "<input type=\"hidden\" name=\"locale\" id=\"locale\" value=\"en_US\">\n",
      "<input type=\"hidden\" name=\"url\" id=\"url\" value=\"https://www.naver.com\">\n",
      "\n",
      "\t\t\t\t<fieldset class=\"login_form\">\n",
      "\t\t\t\t\t<legend class=\"blind\">Sign in</legend>\n",
      "\t\t\t\t\t<div class=\"id_area\">\n",
      "\t\t\t\t\t\t<div class=\"input_row focus\" id=\"id_area\">\n",
      "\t\t\t\t\t\t\t<span class=\"input_box\">\n",
      "\t\t\t\t\t\t\t\t<label for=\"id\" id=\"label_id_area\" class=\"lbl\" style=\"display: none;\">Username</label>\n",
      "\t\t\t\t\t\t\t\t<input type=\"text\" id=\"id\" name=\"id\" accesskey=\"L\" placeholder=\"Username\" class=\"int\" maxlength=\"41\" value=\"\">\n",
      "\t\t\t\t\t\t\t</span>\n",
      "\t\t\t\t\t\t\t<button type=\"button\" disabled=\"\" title=\"delete\" id=\"id_clear\" class=\"wrg\">delete</button>\n",
      "\t\t\t\t\t\t</div>\n",
      "\t\t\t\t\t\t<div class=\"error\" id=\"err_empty_id\" style=\"display: block;\" aria-live=\"assertive\">Enter your username!</div>\n",
      "\t\t\t\t\t</div>\n",
      "\t\t\t\t\t<div class=\"pw_area\">\n",
      "\t\t\t\t\t\t<div class=\"input_row\" id=\"pw_area\">\n",
      "\t\t\t\t\t\t\t<span class=\"input_box\">\n",
      "\t\t\t\t\t\t\t\t<label for=\"pw\" id=\"label_pw_area\" class=\"lbl\" style=\"display: none;\">Password</label>\n",
      "\t\t\t\t\t\t\t\t<input type=\"password\" id=\"pw\" name=\"pw\" placeholder=\"Password\" class=\"int\" maxlength=\"16\">\n",
      "\t\t\t\t\t\t\t</span>\n",
      "\t\t\t\t\t\t\t<button type=\"button\" disabled=\"\" title=\"delete\" id=\"pw_clear\" class=\"wrg\">delete</button>\n",
      "\t\t\t\t\t\t\t<div class=\"ly_v2\" id=\"err_capslock\" style=\"display:none;\">\n",
      "\t\t\t\t\t\t\t\t<div class=\"ly_box\">\n",
      "\t\t\t\t\t\t\t\t\t<p><strong>Caps Lock</strong> is on.</p>\n",
      "\t\t\t\t\t\t\t\t</div>\n",
      "\t\t\t\t\t\t\t\t<span class=\"sp ly_point\"></span>\n",
      "\t\t\t\t\t\t\t</div>\n",
      "\t\t\t\t\t\t</div>\n",
      "\t\t\t\t\t\t<div class=\"error\" id=\"err_empty_pw\" style=\"display:none\" aria-live=\"assertive\"></div>\n",
      "\t\t\t\t\t</div>\n",
      "\n",
      "\t\t\t\t\t<input type=\"submit\" title=\"Sign in\" alt=\"Sign in\" value=\"Sign in\" class=\"btn_global\" id=\"log.login\">\n",
      "\t\t\t\t\t<div class=\"check_info\">\n",
      "\t\t\t\t\t\t<div class=\"login_check\">\n",
      "\t\t\t\t\t\t\t<span class=\"login_check_box\">\n",
      "\t\t\t\t\t\t\t\t<input type=\"checkbox\" id=\"login_chk\" name=\"nvlong\" class=\"\" value=\"off\">\n",
      "\t\t\t\t\t\t\t\t<label for=\"login_chk\" id=\"label_login_chk\" class=\"ico_keep_check \">Stay Signed in</label>\n",
      "\t\t\t\t\t\t\t</span>\n",
      "\t\t\t\t\t\t</div>\n",
      "\t\t\t\t\t</div>\n",
      "\t\t\t\t</fieldset>\n",
      "\t\t\t</form>\n",
      "\t\t\t<div class=\"qr_once_wrap\">\n",
      "\t\t\t\t<div class=\"qr_once_inner\">\t\t\t\t\t\n",
      "\t\t\t\t\t<p class=\"title\">Easier sign in</p>\t\t\t\t\t\n",
      "\t\t\t\t\t<div class=\"qr_once_area\">\n",
      "\t\t\t\t\t\t<div class=\"item\">\n",
      "\t\t\t\t\t\t\t<button type=\"button\" id=\"log.QR\" class=\"item_btn\">\n",
      "\t\t\t\t\t\t\t\t<span class=\"icon_qr\" aria-hidden=\"true\"></span>\n",
      "\t\t\t\t\t\t\t\t<span class=\"txt\">Sign in with QR code</span>\n",
      "\t\t\t\t\t\t\t</button>\n",
      "                        </div>\n",
      "                        <div class=\"item\">\n",
      "                        <a href=\"/oauth/global/initSNS.nhn?idp_cd=facebook&amp;locale=en_US&amp;svctype=1&amp;postDataKey=&amp;url=https%3A%2F%2Fwww.naver.com\" title=\"Log in with your Facebook account\">\n",
      "\t\t\t\t\t\t\t<button type=\"button\" class=\"item_btn\">\n",
      "\t\t\t\t\t\t\t\t<span class=\"icon_facebook\" aria-hidden=\"true\"></span>\n",
      "\t\t\t\t\t\t\t\t<span class=\"txt\">Facebook</span>\n",
      "\t\t\t\t\t\t\t</button>\n",
      "\t\t\t\t\t\t</a>\n",
      "                        </div>\n",
      "                        <div class=\"item\">\n",
      "                        <a href=\"/oauth/global/initSNS.nhn?idp_cd=line&amp;locale=en_US&amp;svctype=1&amp;postDataKey=&amp;url=https%3A%2F%2Fwww.naver.com\" title=\"Log in with your Line account\">\n",
      "                        \t<button type=\"button\" class=\"item_btn\">\n",
      "\t\t\t\t\t\t\t\t<span class=\"icon_line\" aria-hidden=\"true\"></span>\n",
      "\t\t\t\t\t\t\t\t<span class=\"txt\">line</span>\n",
      "\t\t\t\t\t\t\t</button>\n",
      "\t\t\t\t\t\t</a>\n",
      "\t\t\t\t\t\t</div>\t\t\t\t\t\t\n",
      "\t\t\t\t\t</div>\n",
      "\t\t\t\t\t<div class=\"nudge_tooltip\" id=\"nudge_tooltip\" style=\"height:20px;\">\n",
      "\t\t\t\t\t\t<span class=\"banner_area\">\n",
      "\t\t\t\t\t\t\t<span class=\"edge\"></span>\n",
      "\t\t\t\t\t\t\t<span class=\"text\">If this PC is used by multiple people, try it.</span>\n",
      "\t\t\t\t\t\t\t<a href=\"#\" id=\"nudge_close\" role=\"button\" aria-label=\"닫기\" class=\"nudge_close\"></a>\n",
      "\t\t\t\t\t\t</span>\n",
      "\t\t\t\t\t</div>\t\t\t\t\t\n",
      "\t\t\t\t</div>\t\t\t\t\n",
      "\t\t\t</div>\n",
      "\n",
      "\t\t\t<div class=\"position_a\">\n",
      "\t\t\t\t<div class=\"find_info\">\n",
      "\t\t\t\t\t<p>Forgot your <a target=\"_blank\" id=\"idinquiry\" href=\"https://nid.naver.com/user2/api/route.nhn?m=routeIdInquiry&amp;lang=en_US\">Username</a> or <a target=\"_blank\" id=\"pwinquiry\" href=\"https://nid.naver.com/user2/api/route.nhn?m=routePwInquiry&amp;lang=en_US\">Password?</a> <span class=\"bar\">|</span> <a target=\"_blank\" id=\"join\" href=\"https://nid.naver.com/user2/V2Join.nhn?m=agree&amp;lang=en_US\">Sign up</a>\n",
      "\t\t\t\t</p></div>\n",
      "\t\t\t</div>\n",
      "\t\t</div>\n",
      "\t\t<!-- //content -->\n",
      "\t</div>\n",
      "\t<!-- //container -->\n",
      "\t<!-- footer -->\n",
      "\t<div id=\"footer\">\n",
      "\t\t<address><em><a target=\"_blank\" href=\"http://www.navercorp.com\" class=\"logo\" id=\"fot.naver\"><span class=\"blind\">naver</span></a></em><em class=\"copy\">Copyright</em> <em class=\"u_cri\">©</em> <a target=\"_blank\" href=\"http://www.navercorp.com\" class=\"u_cra\" id=\"fot.navercorp\">NAVER Corp.</a> <span class=\"all_r\">All Rights Reserved.</span></address>\t\n",
      "\t</div>\n",
      "\t<!-- //footer -->\n",
      "</div>\n",
      "<input type=\"hidden\" id=\"nclicks_nsc\" name=\"nclicks_nsc\" value=\"nid.login_en\">\n",
      "<input type=\"hidden\" id=\"nid_buk\" name=\"nid_buk\" value=\"exist\">\n",
      "<input type=\"hidden\" id=\"ncaptchaSplit\" name=\"ncaptchaSplit\" value=\"none\">\n",
      "<input type=\"hidden\" id=\"id_error_msg\" name=\"id_error_msg\" value=\"Enter your username!\">\n",
      "<input type=\"hidden\" id=\"pw_error_msg\" name=\"pw_error_msg\" value=\"Enter your password!\">\n",
      "<input type=\"hidden\" id=\"locale\" name=\"locale\" value=\"en_US\">\n",
      "<input type=\"hidden\" id=\"adult_surl_v2\" name=\"adult_surl_v2\" value=\"\">\n",
      "<script type=\"text/javascript\" src=\"https://nid.naver.com/login/js/bvsd.1.3.4.min.js\"></script>\n",
      "<script type=\"text/javascript\" src=\"https://nid.naver.com/login/js/default/common200417.js?v=20200707\"></script>\n",
      "<script type=\"text/javascript\" src=\"https://nid.naver.com/login/js/default/default200417.js\"></script>\n",
      "<script type=\"text/javascript\" nonce=\"\">try{if(document.domain!=\"nid.naver.com\"||location.protocol!=\"https:\"){location.href=\"https://nid.naver.com/login/api/proxy.repo.naver?protocol=\"+location.protocol+\"&domain=\"+document.domain+\"&referrer=\"+encodeURIComponent(document.referrer)}}catch(e){}</script>\n",
      "<div id=\"nv_stat\" style=\"display:none;\">20</div>\n",
      "\n",
      "\n",
      "</body></html>\n"
     ]
    }
   ],
   "source": [
    "print(browser.page_source) # html 정보 출력(soup 변수와 비슷)"
   ]
  },
  {
   "cell_type": "code",
   "execution_count": 49,
   "metadata": {},
   "outputs": [],
   "source": [
    "# browser.back()"
   ]
  },
  {
   "cell_type": "code",
   "execution_count": 50,
   "metadata": {},
   "outputs": [],
   "source": [
    "# browser.forward()"
   ]
  },
  {
   "cell_type": "code",
   "execution_count": 51,
   "metadata": {},
   "outputs": [],
   "source": [
    "# browser.refresh()"
   ]
  },
  {
   "cell_type": "code",
   "execution_count": 52,
   "metadata": {},
   "outputs": [],
   "source": [
    "# browser.back() # main 화면으로 <-"
   ]
  },
  {
   "cell_type": "code",
   "execution_count": 53,
   "metadata": {},
   "outputs": [],
   "source": [
    "# elem = browser.find_element_by_id('query')\n",
    "elem = browser.find_element_by_name('query')"
   ]
  },
  {
   "cell_type": "code",
   "execution_count": 54,
   "metadata": {},
   "outputs": [],
   "source": [
    "elem.send_keys('Selenium Test')"
   ]
  },
  {
   "cell_type": "code",
   "execution_count": 55,
   "metadata": {},
   "outputs": [],
   "source": [
    "elem.send_keys(Keys.ENTER)"
   ]
  },
  {
   "cell_type": "code",
   "execution_count": 56,
   "metadata": {},
   "outputs": [],
   "source": [
    "# 검색 이후 search\n",
    "elem = browser.find_elements_by_tag_name('a') # 모든 'a' elements 검색"
   ]
  },
  {
   "cell_type": "code",
   "execution_count": 57,
   "metadata": {},
   "outputs": [],
   "source": [
    "for e in elem:\n",
    "    e.get_attribute('href') # elem내에 모든 'href' 검색"
   ]
  },
  {
   "cell_type": "code",
   "execution_count": 58,
   "metadata": {},
   "outputs": [],
   "source": [
    "# dart.fss.or.kr 테스트\n",
    "browser.get('http://dart.fss.or.kr/')"
   ]
  },
  {
   "cell_type": "code",
   "execution_count": 59,
   "metadata": {},
   "outputs": [],
   "source": [
    "elem = browser.find_element_by_id('textCrpNm')"
   ]
  },
  {
   "cell_type": "code",
   "execution_count": 60,
   "metadata": {},
   "outputs": [],
   "source": [
    "elem.send_keys('삼성전자')"
   ]
  },
  {
   "cell_type": "code",
   "execution_count": 61,
   "metadata": {},
   "outputs": [],
   "source": [
    "elem = browser.find_element_by_xpath('//*[@id=\"searchForm\"]/fieldset/p[4]/input')"
   ]
  },
  {
   "cell_type": "code",
   "execution_count": 62,
   "metadata": {},
   "outputs": [],
   "source": [
    "elem.click()"
   ]
  },
  {
   "cell_type": "code",
   "execution_count": 63,
   "metadata": {},
   "outputs": [],
   "source": [
    "# browser.close() # tab 닫기\n",
    "browser.quit() # browser 종료"
   ]
  },
  {
   "cell_type": "code",
   "execution_count": null,
   "metadata": {},
   "outputs": [],
   "source": []
  }
 ],
 "metadata": {
  "kernelspec": {
   "display_name": "Python 3",
   "language": "python",
   "name": "python3"
  },
  "language_info": {
   "codemirror_mode": {
    "name": "ipython",
    "version": 3
   },
   "file_extension": ".py",
   "mimetype": "text/x-python",
   "name": "python",
   "nbconvert_exporter": "python",
   "pygments_lexer": "ipython3",
   "version": "3.6.9"
  }
 },
 "nbformat": 4,
 "nbformat_minor": 4
}
